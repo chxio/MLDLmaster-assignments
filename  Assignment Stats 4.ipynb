{
 "cells": [
  {
   "cell_type": "code",
   "execution_count": 2,
   "id": "38e52b4f",
   "metadata": {},
   "outputs": [
    {
     "name": "stdout",
     "output_type": "stream",
     "text": [
      "test statistic is 8.006066246262538 with p value 0.045886500891747214\n",
      "As p -value is less than given level of significance i.e 0.05. We will reject null Hypothesis\n",
      "Gender and education level are dependent.\n"
     ]
    }
   ],
   "source": [
    "#q1 - is there a relationship between the\n",
    "# gender of an individual and the level of education that they have obtained?\n",
    "\n",
    "from scipy.stats import chi2_contingency\n",
    "# Null hypo\n",
    "#Ho: Gender and education level independent of each other.\n",
    "\n",
    "# Alternate hypo\n",
    "#H1: Gender and education level are dependent.\n",
    "\n",
    "alpha = 0.05\n",
    "obs = ([[60, 54, 46, 41],[40, 44, 53, 57]])\n",
    "result = chi2_contingency(obs)\n",
    "\n",
    "print(f'test statistic is {result[0]} with p value {result[1]}')\n",
    "print('As p -value is less than given level of significance i.e 0.05. We will reject null Hypothesis')\n",
    "print('Gender and education level are dependent.')"
   ]
  },
  {
   "cell_type": "code",
   "execution_count": 3,
   "id": "738adf8c",
   "metadata": {},
   "outputs": [
    {
     "name": "stdout",
     "output_type": "stream",
     "text": [
      "test statistics is 9.747205503009463 with p-values of 0.0030597541434430556\n",
      "As p -value is less than given level of significance i.e 0.05. We will reject null Hypothesis\n",
      "These group do not have the equal mean\n"
     ]
    }
   ],
   "source": [
    "# q2 - -Using the following data, perform a oneway analysis of variance using α=.05. Write\n",
    "# up the results in APA format.\n",
    "\n",
    "#Null hypo\n",
    "#H0: these group have the equal group mean. (mu1=mu2=mu3)\n",
    "\n",
    "#alternate hypo\n",
    "#H1:these group do not have the equal mean\n",
    "\n",
    "alpha = 0.05\n",
    "Group1 = [51, 45, 33, 45, 67] \n",
    "Group2 = [23, 43, 23, 43, 45]\n",
    "Group3 = [56, 76, 74, 87, 56]\n",
    "\n",
    "from scipy.stats import f_oneway\n",
    "result = f_oneway(Group1,Group2,Group3)\n",
    "\n",
    "print(f'test statistics is {result[0]} with p-values of {result[1]}')\n",
    "print('As p -value is less than given level of significance i.e 0.05. We will reject null Hypothesis')\n",
    "print('These group do not have the equal mean')"
   ]
  },
  {
   "cell_type": "code",
   "execution_count": 4,
   "id": "f2737122",
   "metadata": {},
   "outputs": [
    {
     "name": "stdout",
     "output_type": "stream",
     "text": [
      "F test result is: 3.6\n"
     ]
    }
   ],
   "source": [
    "#q3 - Calculate F Test for given\n",
    "\n",
    "g1 = [10, 20, 30, 40, 50]\n",
    "g2 = [5, 10, 15, 20, 25]\n",
    "result = f_oneway(g1,g2)\n",
    "print(f'F test result is: {result[0]}')"
   ]
  }
 ],
 "metadata": {
  "kernelspec": {
   "display_name": "Python 3 (ipykernel)",
   "language": "python",
   "name": "python3"
  },
  "language_info": {
   "codemirror_mode": {
    "name": "ipython",
    "version": 3
   },
   "file_extension": ".py",
   "mimetype": "text/x-python",
   "name": "python",
   "nbconvert_exporter": "python",
   "pygments_lexer": "ipython3",
   "version": "3.10.9"
  }
 },
 "nbformat": 4,
 "nbformat_minor": 5
}
