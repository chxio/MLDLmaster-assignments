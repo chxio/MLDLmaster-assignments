{
 "cells": [
  {
   "cell_type": "code",
   "execution_count": 1,
   "id": "e9c22975",
   "metadata": {},
   "outputs": [
    {
     "data": {
      "text/plain": [
       "array([[ 1,  1,  1],\n",
       "       [ 1,  3,  9],\n",
       "       [ 1,  4, 16],\n",
       "       [ 1,  5, 25],\n",
       "       [ 1,  8, 64]])"
      ]
     },
     "execution_count": 1,
     "metadata": {},
     "output_type": "execute_result"
    }
   ],
   "source": [
    "# q1 - Write a function so that the columns of the output matrix are powers of the input vector.\n",
    "# The order of the powers is determined by the increasing boolean argument. Specifically, when\n",
    "# increasing is False, the i-th output column is the input vector raised element-wise to the power\n",
    "# of N - i - 1.\n",
    "\n",
    "import pandas as pd\n",
    "import numpy as np\n",
    "def power_matrix(vector, power, grow=False):\n",
    "    \n",
    "    if not grow:\n",
    "        output_matrix = np.array([x**(power-i-1) for x in vector for i in range(power)]).reshape(vector.size,power)\n",
    "        \n",
    "    elif grow:\n",
    "        output_matrix = np.array([x**i for x in vector for i in range(power)]).reshape(vector.size,power)\n",
    "    \n",
    "    return output_matrix\n",
    "\n",
    "\n",
    "vector = np.array([1,3,4,5,8])\n",
    "\n",
    "#with increasing\n",
    "power_matrix(vector,3,True)"
   ]
  },
  {
   "cell_type": "code",
   "execution_count": 2,
   "id": "338cd36a",
   "metadata": {},
   "outputs": [
    {
     "data": {
      "text/plain": [
       "array([[ 1,  1,  1],\n",
       "       [ 9,  3,  1],\n",
       "       [16,  4,  1],\n",
       "       [25,  5,  1],\n",
       "       [64,  8,  1]])"
      ]
     },
     "execution_count": 2,
     "metadata": {},
     "output_type": "execute_result"
    }
   ],
   "source": [
    "#without increasing\n",
    "power_matrix(vector,3)"
   ]
  },
  {
   "cell_type": "code",
   "execution_count": 4,
   "id": "3832b624",
   "metadata": {},
   "outputs": [
    {
     "name": "stdout",
     "output_type": "stream",
     "text": [
      "Moving average values list is :  [  5.     4.67   5.67   6.67   9.67  28.67  49.33  72.67  84.    93.33\n",
      " 116.33]\n",
      "Length of the list l-k+1: :  11\n"
     ]
    }
   ],
   "source": [
    "#q2 - Write a function to find moving average in an array over a window:\n",
    "# Test it over [3, 5, 7, 2, 8, 10, 11, 65, 72, 81, 99, 100, 150] and window of 3.\n",
    "\n",
    "def moving_avg(vector,k):\n",
    "    \n",
    "    avg = np.cumsum(vector, dtype=float)\n",
    "    \n",
    "    avg[k:] = avg[k:] - avg[:-k]\n",
    "    \n",
    "    print(\"Moving average values list is : \", np.round(avg[k-1:]/k, decimals=2)) \n",
    "    \n",
    "    print(\"Length of the list l-k+1: : \", len(avg[k-1:]/k))\n",
    "    \n",
    "arr1 = np.array([3, 5, 7, 2, 8, 10, 11, 65, 72, 81, 99, 100, 150])\n",
    "\n",
    "moving_avg(arr1,3)"
   ]
  }
 ],
 "metadata": {
  "kernelspec": {
   "display_name": "Python 3 (ipykernel)",
   "language": "python",
   "name": "python3"
  },
  "language_info": {
   "codemirror_mode": {
    "name": "ipython",
    "version": 3
   },
   "file_extension": ".py",
   "mimetype": "text/x-python",
   "name": "python",
   "nbconvert_exporter": "python",
   "pygments_lexer": "ipython3",
   "version": "3.10.9"
  }
 },
 "nbformat": 4,
 "nbformat_minor": 5
}
