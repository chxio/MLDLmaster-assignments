{
 "cells": [
  {
   "cell_type": "code",
   "execution_count": 8,
   "id": "d7763c44",
   "metadata": {},
   "outputs": [
    {
     "name": "stdout",
     "output_type": "stream",
     "text": [
      "\n",
      "*\n",
      "**\n",
      "***\n",
      "****\n",
      "*****\n",
      "****\n",
      "***\n",
      "**\n",
      "*\n"
     ]
    }
   ],
   "source": [
    "#q1 - star pattern\n",
    "p = \"\"\n",
    "for i in range(1,10):\n",
    "    if(i<=6):\n",
    "        print(\"*\".join(str(p) for j in range(1,i+1)))\n",
    "                \n",
    "                \n",
    "    if(i>5):\n",
    "        print(\"*\".join(str(p) for j in range(1,11-i+1)))\n",
    "    "
   ]
  },
  {
   "cell_type": "code",
   "execution_count": 10,
   "id": "1be2c70d",
   "metadata": {},
   "outputs": [
    {
     "name": "stdout",
     "output_type": "stream",
     "text": [
      "Input word : hjgjdhykhk\n",
      "Output : khkyhdjgjh\n"
     ]
    }
   ],
   "source": [
    "#q2 - name reverse order\n",
    "text1 = str(input(\"Input word : \"))\n",
    "print(\"Output : \"+text1[::-1])"
   ]
  }
 ],
 "metadata": {
  "kernelspec": {
   "display_name": "Python 3 (ipykernel)",
   "language": "python",
   "name": "python3"
  },
  "language_info": {
   "codemirror_mode": {
    "name": "ipython",
    "version": 3
   },
   "file_extension": ".py",
   "mimetype": "text/x-python",
   "name": "python",
   "nbconvert_exporter": "python",
   "pygments_lexer": "ipython3",
   "version": "3.10.9"
  }
 },
 "nbformat": 4,
 "nbformat_minor": 5
}
