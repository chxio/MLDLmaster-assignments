{
 "cells": [
  {
   "cell_type": "code",
   "execution_count": 6,
   "id": "4258b77a",
   "metadata": {},
   "outputs": [
    {
     "name": "stdout",
     "output_type": "stream",
     "text": [
      "Please enter side a: 3\n",
      "Please enter side b: 4\n",
      "Please enter side c: 5\n",
      "Area of the given triangle is :  6.0  cm square\n"
     ]
    }
   ],
   "source": [
    "#q1.1 - calculate area\n",
    "class Triangle:\n",
    "    def __init__(self):\n",
    "        self.a = float(input(\"Please enter side a: \"))\n",
    "        self.b = float(input(\"Please enter side b: \"))\n",
    "        self.c = float(input(\"Please enter side c: \"))\n",
    "\n",
    "class Area(Triangle):\n",
    "    def area1(self):\n",
    "        s = (self.a + self.b + self.c) / 2\n",
    "        area = (s * (s - self.a)*(s - self.b)*(s - self.c)) ** 0.5\n",
    "        return area\n",
    "A = Area()\n",
    "print(\"Area of the given triangle is : \",A.area1(),\" cm square\")"
   ]
  },
  {
   "cell_type": "code",
   "execution_count": 10,
   "id": "b70531a5",
   "metadata": {},
   "outputs": [
    {
     "data": {
      "text/plain": [
       "['abcderg', 'xyzfsdg', ' dfdhj', ' afsdfg']"
      ]
     },
     "execution_count": 10,
     "metadata": {},
     "output_type": "execute_result"
    }
   ],
   "source": [
    "#q1.2 - list words longer than \"n\"\n",
    "n = 4\n",
    "list1 = ['abcderg','xyzfsdg','ijrg', ' dfdhj', 'a', 'ad', 'ghf', 'asdf', ' afsdfg']\n",
    "list(filter(lambda x:len(x)>n,list1))"
   ]
  },
  {
   "cell_type": "code",
   "execution_count": 11,
   "id": "a0021f23",
   "metadata": {},
   "outputs": [
    {
     "data": {
      "text/plain": [
       "[1, 9, 5]"
      ]
     },
     "execution_count": 11,
     "metadata": {},
     "output_type": "execute_result"
    }
   ],
   "source": [
    "#q2.1 - output as number of letters\n",
    "l = ['a', 'csdgsdfde', 'edrty']\n",
    "list(map(lambda x:len(x),l))"
   ]
  },
  {
   "cell_type": "code",
   "execution_count": 16,
   "id": "0a93cfd0",
   "metadata": {},
   "outputs": [
    {
     "name": "stdout",
     "output_type": "stream",
     "text": [
      "Input your character t\n",
      "Given Character is not a vowel\n"
     ]
    }
   ],
   "source": [
    "#q2.2 - check vowel\n",
    "def check_vowel(char):\n",
    "    vowels=['a','e','i','o','u']\n",
    "    if char in vowels:\n",
    "        return True\n",
    "    else:\n",
    "        return False\n",
    "if(check_vowel(input(\"Input your character \"))):\n",
    "    print(\"Given Character is a vowel\")\n",
    "else:\n",
    "    print(\"Given Character is not a vowel\")"
   ]
  }
 ],
 "metadata": {
  "kernelspec": {
   "display_name": "Python 3 (ipykernel)",
   "language": "python",
   "name": "python3"
  },
  "language_info": {
   "codemirror_mode": {
    "name": "ipython",
    "version": 3
   },
   "file_extension": ".py",
   "mimetype": "text/x-python",
   "name": "python",
   "nbconvert_exporter": "python",
   "pygments_lexer": "ipython3",
   "version": "3.10.9"
  }
 },
 "nbformat": 4,
 "nbformat_minor": 5
}
