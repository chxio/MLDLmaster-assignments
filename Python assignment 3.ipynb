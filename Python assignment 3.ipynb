{
 "cells": [
  {
   "cell_type": "code",
   "execution_count": 6,
   "id": "81a44341",
   "metadata": {},
   "outputs": [
    {
     "name": "stdout",
     "output_type": "stream",
     "text": [
      "Reduce implemented Output is: 5760\n"
     ]
    }
   ],
   "source": [
    "#q1.1 - myreduce implementation\n",
    "def myreduce1(func, given_list):\n",
    "    result = given_list[0]\n",
    "    for i in given_list[1:]:\n",
    "        result = func_multi(result, i)\n",
    "    return result\n",
    "\n",
    "def func_multi(x,y):\n",
    "    return x*y\n",
    "\n",
    "list1 = [1,2,3,4,5,6,8]\n",
    "print(f\"Reduce implemented Output is: {myreduce1(func_multi, list1)}\")"
   ]
  },
  {
   "cell_type": "code",
   "execution_count": 8,
   "id": "3443a962",
   "metadata": {},
   "outputs": [
    {
     "name": "stdout",
     "output_type": "stream",
     "text": [
      "My Filter Output is: [6, 8, 12, 44]\n"
     ]
    }
   ],
   "source": [
    "#q1.2 - myfilter implementation\n",
    "def myfilter1(func, given_list):\n",
    "    result = []\n",
    "    for i in given_list:\n",
    "        if func_even(i):\n",
    "            result.append(i)\n",
    "    return result\n",
    "\n",
    "def func_even(x):\n",
    "    if x % 2 == 0:\n",
    "        return True\n",
    "    else:\n",
    "        return False\n",
    "\n",
    "list1 = [1, 3, 6, 8, 12, 33, 44]\n",
    "print(f\"Filter implemented Output is: {myfilter1(func_even, list1)}\")"
   ]
  },
  {
   "cell_type": "code",
   "execution_count": 13,
   "id": "f2d3a98e",
   "metadata": {},
   "outputs": [
    {
     "name": "stdout",
     "output_type": "stream",
     "text": [
      "['x', 'xx', 'xxx', 'xxxx', 'y', 'yy', 'yyy', 'yyyy', 'z', 'zz', 'zzz', 'zzzz']\n",
      "['x', 'y', 'z', 'xx', 'yy', 'zz', 'xxx', 'yyy', 'zzz', 'xxxx', 'yyyy', 'zzzz']\n",
      "[[2], [3], [4], [3], [4], [5], [4], [5], [6]]   [[2, 3, 4, 5], [3, 4, 5, 6], [4, 5, 6, 7], [5, 6, 7, 8]]\n",
      "[(1, 1), (2, 1), (3, 1), (1, 2), (2, 2), (3, 2), (1, 3), (2, 3), (3, 3)]\n"
     ]
    }
   ],
   "source": [
    "#q2 - patterns\n",
    "list1 = ['x','y','z']\n",
    "ans1 = [i*j for i in list1 for j in range(1,5)]\n",
    "print(ans1)\n",
    "\n",
    "ans2 = [i*j  for j in range(1,5) for i in list1]\n",
    "print(ans2)\n",
    "\n",
    "ans3 = [[p + q] for q in range(3) for p in range(2, 5)]\n",
    "#print(ans3)\n",
    "\n",
    "ans4 = [[x+y for y in range(2, 6)] for x in range(4)]\n",
    "print(ans3, \" \", ans4)\n",
    "\n",
    "ans5 = [(l, m) for m in range(1, 4) for l in range(1, 4)]\n",
    "print(ans5)"
   ]
  }
 ],
 "metadata": {
  "kernelspec": {
   "display_name": "Python 3 (ipykernel)",
   "language": "python",
   "name": "python3"
  },
  "language_info": {
   "codemirror_mode": {
    "name": "ipython",
    "version": 3
   },
   "file_extension": ".py",
   "mimetype": "text/x-python",
   "name": "python",
   "nbconvert_exporter": "python",
   "pygments_lexer": "ipython3",
   "version": "3.10.9"
  }
 },
 "nbformat": 4,
 "nbformat_minor": 5
}
